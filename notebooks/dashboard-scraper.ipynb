{
 "cells": [
  {
   "cell_type": "markdown",
   "metadata": {},
   "source": [
    "# dashboard-scraper\n",
    "\n",
    "In this script, we write the functions necessary to scrap useful information from the dashboard present on the following page:\n",
    "http://184.73.28.182/"
   ]
  },
  {
   "cell_type": "code",
   "execution_count": 31,
   "metadata": {},
   "outputs": [],
   "source": [
    "### import \n",
    "from collections import namedtuple\n",
    "from datetime import datetime\n",
    "import pandas as pd\n",
    "from selenium import webdriver\n",
    "from selenium.webdriver.common.keys import Keys\n",
    "from selenium.webdriver.common.by import By"
   ]
  },
  {
   "cell_type": "code",
   "execution_count": 32,
   "metadata": {},
   "outputs": [],
   "source": [
    "### \n",
    "options = webdriver.ChromeOptions()\n",
    "#options.add_argument('headless') \n",
    "options.add_argument('window-size=1200x600')\n",
    "driver = webdriver.Chrome(chrome_options=options)\n",
    "driver.get('http://184.73.28.182/')"
   ]
  },
  {
   "cell_type": "code",
   "execution_count": 33,
   "metadata": {},
   "outputs": [],
   "source": [
    "### get list of all games listed as suggested bets\n",
    "container_element = driver.find_element_by_class_name('container')\n",
    "table_element = container_element.find_element_by_css_selector('table.table-striped')\n",
    "suggested_games = table_element.find_elements_by_class_name('accordion-toggle')"
   ]
  },
  {
   "cell_type": "code",
   "execution_count": 34,
   "metadata": {},
   "outputs": [],
   "source": [
    "### expand all the suggested games\n",
    "for game in suggested_games:\n",
    "    game.click()"
   ]
  },
  {
   "cell_type": "code",
   "execution_count": 35,
   "metadata": {},
   "outputs": [],
   "source": [
    "### extract odds from bookies\n",
    "odds_matrices = table_element.find_elements_by_class_name('hiddenRow')"
   ]
  },
  {
   "cell_type": "code",
   "execution_count": 36,
   "metadata": {},
   "outputs": [],
   "source": [
    "### create named tuple from game and odd_matrix containing the following fields:\n",
    "#   * query_time \n",
    "#   * time_to_game\n",
    "#   * game\n",
    "#   * league\n",
    "#   * odd_matrix\n",
    "\n",
    "# get input for the function to be implemented\n",
    "game = suggested_games[0]\n",
    "odd_matrix = odds_matrices[0]\n",
    "\n",
    "# initialize named tuple\n",
    "scraped_game = namedtuple('ScrapedGame',  ['timestamp', 'date', 'game', 'league', 'odd_matrix'])\n",
    "\n",
    "# fill values in named tuple from game\n",
    "game_contents = [element.text for element in game.find_elements_by_css_selector('td')]\n",
    "scraped_game.timestamp = datetime.now().strftime(\"%Y-%m-%d %H:%M:%S\")\n",
    "scraped_game.date = str(game_contents[4])\n",
    "scraped_game.game = str(game_contents[1])\n",
    "scraped_game.league = str(game_contents[2])\n",
    "\n",
    "# get single rows from odd matrix\n",
    "table = odd_matrix.find_element(By.CLASS_NAME, 'accordian-body').find_element(By.CLASS_NAME, 'table-striped')\n",
    "table_body = table.find_element(By.CSS_SELECTOR,'tbody')\n",
    "table_body_elements = table_body.find_elements(By.CSS_SELECTOR, 'tr')\n",
    "\n",
    "# add column in scraped_odd_matrix, containing the bookie as column name, and odds as values\n",
    "scraped_odd_matrix = pd.DataFrame(index=['1', 'X', '2'])\n",
    "for body in table_body_elements:\n",
    "    body_elements = body.find_elements(By.CSS_SELECTOR, 'td')\n",
    "    \n",
    "    bookie = str(body_elements[0].text)\n",
    "    odds_1 = float(body_elements[1].text.split('\\n')[0])\n",
    "    odds_X = float(body_elements[2].text.split('\\n')[0])\n",
    "    odds_2 = float(body_elements[3].text.split('\\n')[0])\n",
    "    \n",
    "    scraped_odd_matrix[bookie] = pd.Series([odds_1, odds_X, odds_2], index=scraped_odd_matrix.index)\n",
    "\n",
    "scraped_game.odd_matrix = scraped_odd_matrix"
   ]
  },
  {
   "cell_type": "code",
   "execution_count": 43,
   "metadata": {},
   "outputs": [
    {
     "data": {
      "text/html": [
       "<div>\n",
       "<style scoped>\n",
       "    .dataframe tbody tr th:only-of-type {\n",
       "        vertical-align: middle;\n",
       "    }\n",
       "\n",
       "    .dataframe tbody tr th {\n",
       "        vertical-align: top;\n",
       "    }\n",
       "\n",
       "    .dataframe thead th {\n",
       "        text-align: right;\n",
       "    }\n",
       "</style>\n",
       "<table border=\"1\" class=\"dataframe\">\n",
       "  <thead>\n",
       "    <tr style=\"text-align: right;\">\n",
       "      <th></th>\n",
       "      <th>10Bet</th>\n",
       "      <th>12BET</th>\n",
       "      <th>188BET</th>\n",
       "      <th>1xBet</th>\n",
       "      <th>888sport</th>\n",
       "      <th>bet-at-home</th>\n",
       "      <th>bet365</th>\n",
       "      <th>Betclic</th>\n",
       "      <th>Betfair</th>\n",
       "      <th>Betfair Exchange</th>\n",
       "      <th>...</th>\n",
       "      <th>Interwetten</th>\n",
       "      <th>mybet</th>\n",
       "      <th>Paddy Power</th>\n",
       "      <th>Pinnacle</th>\n",
       "      <th>SBOBET</th>\n",
       "      <th>Sportingbet</th>\n",
       "      <th>Tipico</th>\n",
       "      <th>Unibet</th>\n",
       "      <th>William Hill</th>\n",
       "      <th>youwin</th>\n",
       "    </tr>\n",
       "  </thead>\n",
       "  <tbody>\n",
       "    <tr>\n",
       "      <th>1</th>\n",
       "      <td>1.71</td>\n",
       "      <td>1.72</td>\n",
       "      <td>1.72</td>\n",
       "      <td>1.76</td>\n",
       "      <td>1.75</td>\n",
       "      <td>1.67</td>\n",
       "      <td>1.66</td>\n",
       "      <td>1.68</td>\n",
       "      <td>1.67</td>\n",
       "      <td>1.71</td>\n",
       "      <td>...</td>\n",
       "      <td>1.90</td>\n",
       "      <td>1.7</td>\n",
       "      <td>1.62</td>\n",
       "      <td>1.72</td>\n",
       "      <td>1.73</td>\n",
       "      <td>1.73</td>\n",
       "      <td>1.75</td>\n",
       "      <td>1.75</td>\n",
       "      <td>1.73</td>\n",
       "      <td>1.7</td>\n",
       "    </tr>\n",
       "    <tr>\n",
       "      <th>X</th>\n",
       "      <td>3.85</td>\n",
       "      <td>3.70</td>\n",
       "      <td>3.75</td>\n",
       "      <td>4.10</td>\n",
       "      <td>3.65</td>\n",
       "      <td>3.96</td>\n",
       "      <td>3.79</td>\n",
       "      <td>3.70</td>\n",
       "      <td>3.90</td>\n",
       "      <td>3.85</td>\n",
       "      <td>...</td>\n",
       "      <td>3.45</td>\n",
       "      <td>4.1</td>\n",
       "      <td>3.75</td>\n",
       "      <td>4.12</td>\n",
       "      <td>3.60</td>\n",
       "      <td>3.50</td>\n",
       "      <td>3.80</td>\n",
       "      <td>3.70</td>\n",
       "      <td>3.80</td>\n",
       "      <td>3.4</td>\n",
       "    </tr>\n",
       "    <tr>\n",
       "      <th>2</th>\n",
       "      <td>4.60</td>\n",
       "      <td>4.50</td>\n",
       "      <td>4.30</td>\n",
       "      <td>4.76</td>\n",
       "      <td>4.35</td>\n",
       "      <td>4.40</td>\n",
       "      <td>5.00</td>\n",
       "      <td>4.50</td>\n",
       "      <td>4.60</td>\n",
       "      <td>4.71</td>\n",
       "      <td>...</td>\n",
       "      <td>3.80</td>\n",
       "      <td>4.6</td>\n",
       "      <td>4.50</td>\n",
       "      <td>4.83</td>\n",
       "      <td>4.50</td>\n",
       "      <td>4.50</td>\n",
       "      <td>4.50</td>\n",
       "      <td>4.40</td>\n",
       "      <td>4.20</td>\n",
       "      <td>4.5</td>\n",
       "    </tr>\n",
       "  </tbody>\n",
       "</table>\n",
       "<p>3 rows × 27 columns</p>\n",
       "</div>"
      ],
      "text/plain": [
       "   10Bet  12BET  188BET  1xBet  888sport  bet-at-home  bet365  Betclic  \\\n",
       "1   1.71   1.72    1.72   1.76      1.75         1.67    1.66     1.68   \n",
       "X   3.85   3.70    3.75   4.10      3.65         3.96    3.79     3.70   \n",
       "2   4.60   4.50    4.30   4.76      4.35         4.40    5.00     4.50   \n",
       "\n",
       "   Betfair  Betfair Exchange   ...    Interwetten  mybet  Paddy Power  \\\n",
       "1     1.67              1.71   ...           1.90    1.7         1.62   \n",
       "X     3.90              3.85   ...           3.45    4.1         3.75   \n",
       "2     4.60              4.71   ...           3.80    4.6         4.50   \n",
       "\n",
       "   Pinnacle  SBOBET  Sportingbet  Tipico  Unibet  William Hill  youwin  \n",
       "1      1.72    1.73         1.73    1.75    1.75          1.73     1.7  \n",
       "X      4.12    3.60         3.50    3.80    3.70          3.80     3.4  \n",
       "2      4.83    4.50         4.50    4.50    4.40          4.20     4.5  \n",
       "\n",
       "[3 rows x 27 columns]"
      ]
     },
     "execution_count": 43,
     "metadata": {},
     "output_type": "execute_result"
    }
   ],
   "source": [
    "scraped_game.odd_matrix"
   ]
  },
  {
   "cell_type": "code",
   "execution_count": 6,
   "metadata": {},
   "outputs": [],
   "source": [
    "### extract information from game\n",
    "from collections import namedtuple\n",
    "import datetime\n",
    "\n",
    "game = suggested_games[0]\n",
    "game_contents = [element.text for element in game.find_elements_by_css_selector('td')]\n",
    "\n",
    "game_info = {}\n",
    "game_info['timestamp'] = datetime.datetime.now().strftime(\"%Y-%m-%d %H:%M:%S\") \n",
    "game_info['sport'] = str(game_contents[0])\n",
    "game_info['match_title'] = str(game_contents[1])\n",
    "game_info['league'] = str(game_contents[2])\n",
    "game_info['result_to_bet'] = str(game_contents[3])\n",
    "game_info['date'] = str(game_contents[4])\n",
    "game_info['time_to_match'] = str(game_contents[5])\n",
    "game_info['best_bookie'] = str(game_contents[6])\n",
    "game_info['best_odds'] = float(game_contents[7])\n",
    "game_info['mean'] = float(game_contents[8].split('/')[0].strip())\n",
    "game_info['median'] = float(game_contents[8].split('/')[1].strip())"
   ]
  },
  {
   "cell_type": "code",
   "execution_count": 7,
   "metadata": {},
   "outputs": [
    {
     "data": {
      "text/plain": [
       "{'best_bookie': 'Interwetten',\n",
       " 'best_odds': 2.1,\n",
       " 'date': '2018-01-28 21:00:00',\n",
       " 'league': 'France: Ligue 1',\n",
       " 'match_title': 'Marseille vs. Monaco',\n",
       " 'mean': 1.87,\n",
       " 'median': 1.86,\n",
       " 'result_to_bet': '1',\n",
       " 'sport': 'soccer',\n",
       " 'time_to_match': '09:47:29',\n",
       " 'timestamp': '2018-01-28 11:13:12'}"
      ]
     },
     "execution_count": 7,
     "metadata": {},
     "output_type": "execute_result"
    }
   ],
   "source": [
    "game_info"
   ]
  },
  {
   "cell_type": "code",
   "execution_count": 8,
   "metadata": {},
   "outputs": [],
   "source": [
    "### extract information from odds_matrix\n",
    "odds_matrix = odds_matrices[0]\n",
    "table = odds_matrix.find_element(By.CLASS_NAME, 'table-striped.table-bordered')\n",
    "table_body = table.find_element(By.CSS_SELECTOR,'tbody')\n",
    "table_body_elements = table_body.find_elements(By.CSS_SELECTOR, 'tr')\n",
    "# iterate over table_body_elements\n",
    "OddsInfoArray = []\n",
    "for body in table_body_elements:\n",
    "    body_elements = body.find_elements(By.CSS_SELECTOR, 'td')\n",
    "\n",
    "    OddsInfo = {}\n",
    "    OddsInfo['bookie'] = str(body_elements[0].text)\n",
    "    OddsInfo['odds_1'] = float(body_elements[1].text.split('\\n')[0])\n",
    "    OddsInfo['timestamp_1'] = str(body_elements[1].text.split('\\n')[1])\n",
    "    OddsInfo['odds_X'] = float(body_elements[2].text.split('\\n')[0])\n",
    "    OddsInfo['timestamp_X'] = str(body_elements[2].text.split('\\n')[1])\n",
    "    OddsInfo['odds_2'] = float(body_elements[3].text.split('\\n')[0])\n",
    "    OddsInfo['timestamp_2'] = str(body_elements[3].text.split('\\n')[1])\n",
    "    OddsInfoArray.append(OddsInfo)"
   ]
  },
  {
   "cell_type": "code",
   "execution_count": 9,
   "metadata": {},
   "outputs": [
    {
     "data": {
      "text/plain": [
       "False"
      ]
     },
     "execution_count": 9,
     "metadata": {},
     "output_type": "execute_result"
    }
   ],
   "source": [
    "### check if games are present:\n",
    "str(container_element.text) == 'No advantageous bet opportunities currently available.'"
   ]
  }
 ],
 "metadata": {
  "kernelspec": {
   "display_name": "Python 2",
   "language": "python",
   "name": "python2"
  },
  "language_info": {
   "codemirror_mode": {
    "name": "ipython",
    "version": 2
   },
   "file_extension": ".py",
   "mimetype": "text/x-python",
   "name": "python",
   "nbconvert_exporter": "python",
   "pygments_lexer": "ipython2",
   "version": "2.7.14"
  }
 },
 "nbformat": 4,
 "nbformat_minor": 2
}
