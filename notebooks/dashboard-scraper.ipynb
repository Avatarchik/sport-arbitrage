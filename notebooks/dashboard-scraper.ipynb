{
 "cells": [
  {
   "cell_type": "markdown",
   "metadata": {},
   "source": [
    "# dashboard-scraper\n",
    "\n",
    "In this script, we write the functions necessary to scrap useful information from the dashboard present on the following page:\n",
    "http://184.73.28.182/"
   ]
  },
  {
   "cell_type": "code",
   "execution_count": 1,
   "metadata": {},
   "outputs": [],
   "source": [
    "### import \n",
    "from selenium import webdriver\n",
    "from selenium.webdriver.common.keys import Keys\n",
    "from selenium.webdriver.common.by import By"
   ]
  },
  {
   "cell_type": "code",
   "execution_count": 2,
   "metadata": {},
   "outputs": [],
   "source": [
    "### \n",
    "driver = webdriver.Firefox()\n",
    "driver.get('http://184.73.28.182/')"
   ]
  },
  {
   "cell_type": "code",
   "execution_count": null,
   "metadata": {},
   "outputs": [],
   "source": [
    "driver.dd"
   ]
  },
  {
   "cell_type": "code",
   "execution_count": 3,
   "metadata": {},
   "outputs": [],
   "source": [
    "### get list of all games listed as suggested bets\n",
    "container_element = driver.find_element_by_class_name('container')\n",
    "table_element = container_element.find_element_by_css_selector('table.table-striped')\n",
    "suggested_games = table_element.find_elements_by_class_name('accordion-toggle')"
   ]
  },
  {
   "cell_type": "code",
   "execution_count": 4,
   "metadata": {},
   "outputs": [],
   "source": [
    "### expand all the suggested games\n",
    "for game in suggested_games:\n",
    "    game.click()"
   ]
  },
  {
   "cell_type": "code",
   "execution_count": 5,
   "metadata": {},
   "outputs": [],
   "source": [
    "### extract odds from bookies\n",
    "odds_matrices = table_element.find_elements_by_class_name('hiddenRow')"
   ]
  },
  {
   "cell_type": "code",
   "execution_count": 6,
   "metadata": {},
   "outputs": [
    {
     "ename": "IndexError",
     "evalue": "list index out of range",
     "traceback": [
      "\u001b[0;31m---------------------------------------------------------------------------\u001b[0m",
      "\u001b[0;31mIndexError\u001b[0m                                Traceback (most recent call last)",
      "\u001b[0;32m<ipython-input-6-495d4a9b84a2>\u001b[0m in \u001b[0;36m<module>\u001b[0;34m()\u001b[0m\n\u001b[1;32m      3\u001b[0m \u001b[0;32mimport\u001b[0m \u001b[0mdatetime\u001b[0m\u001b[0;34m\u001b[0m\u001b[0m\n\u001b[1;32m      4\u001b[0m \u001b[0;34m\u001b[0m\u001b[0m\n\u001b[0;32m----> 5\u001b[0;31m \u001b[0mgame\u001b[0m \u001b[0;34m=\u001b[0m \u001b[0msuggested_games\u001b[0m\u001b[0;34m[\u001b[0m\u001b[0;36m0\u001b[0m\u001b[0;34m]\u001b[0m\u001b[0;34m\u001b[0m\u001b[0m\n\u001b[0m\u001b[1;32m      6\u001b[0m \u001b[0mgame_contents\u001b[0m \u001b[0;34m=\u001b[0m \u001b[0;34m[\u001b[0m\u001b[0melement\u001b[0m\u001b[0;34m.\u001b[0m\u001b[0mtext\u001b[0m \u001b[0;32mfor\u001b[0m \u001b[0melement\u001b[0m \u001b[0;32min\u001b[0m \u001b[0mgame\u001b[0m\u001b[0;34m.\u001b[0m\u001b[0mfind_elements_by_css_selector\u001b[0m\u001b[0;34m(\u001b[0m\u001b[0;34m'td'\u001b[0m\u001b[0;34m)\u001b[0m\u001b[0;34m]\u001b[0m\u001b[0;34m\u001b[0m\u001b[0m\n\u001b[1;32m      7\u001b[0m \u001b[0;34m\u001b[0m\u001b[0m\n",
      "\u001b[0;31mIndexError\u001b[0m: list index out of range"
     ],
     "output_type": "error"
    }
   ],
   "source": [
    "### extract information from game\n",
    "from collections import namedtuple\n",
    "import datetime\n",
    "\n",
    "game = suggested_games[0]\n",
    "game_contents = [element.text for element in game.find_elements_by_css_selector('td')]\n",
    "\n",
    "game_info = {}\n",
    "game_info['timestamp'] = datetime.datetime.now().strftime(\"%Y-%m-%d %H:%M:%S\") \n",
    "game_info['sport'] = str(game_contents[0])\n",
    "game_info['match_title'] = str(game_contents[1])\n",
    "game_info['league'] = str(game_contents[2])\n",
    "game_info['result_to_bet'] = str(game_contents[3])\n",
    "game_info['date'] = str(game_contents[4])\n",
    "game_info['time_to_match'] = str(game_contents[5])\n",
    "game_info['best_bookie'] = str(game_contents[6])\n",
    "game_info['best_odds'] = float(game_contents[7])\n",
    "game_info['mean'] = float(game_contents[8].split('/')[0].strip())\n",
    "game_info['median'] = float(game_contents[8].split('/')[1].strip())"
   ]
  },
  {
   "cell_type": "code",
   "execution_count": 7,
   "metadata": {},
   "outputs": [
    {
     "data": {
      "text/plain": [
       "{'best_bookie': 'Interwetten',\n",
       " 'best_odds': 1.45,\n",
       " 'date': '2018-01-11 19:30:00',\n",
       " 'league': 'Spain: Copa del Rey',\n",
       " 'match_title': 'Sevilla vs. Cadiz CF',\n",
       " 'mean': 1.34,\n",
       " 'median': 1.34,\n",
       " 'result_to_bet': '1',\n",
       " 'sport': 'soccer',\n",
       " 'time_to_match': '21:01:38',\n",
       " 'timestamp': '2018-01-10 22:28:30'}"
      ]
     },
     "execution_count": 7,
     "metadata": {},
     "output_type": "execute_result"
    }
   ],
   "source": [
    "game_info"
   ]
  },
  {
   "cell_type": "code",
   "execution_count": 8,
   "metadata": {},
   "outputs": [],
   "source": [
    "### extract information from odds_matrix\n",
    "odds_matrix = odds_matrices[0]\n",
    "table = odds_matrix.find_element(By.CLASS_NAME, 'table-striped.table-bordered')\n",
    "table_body = table.find_element(By.CSS_SELECTOR,'tbody')\n",
    "table_body_elements = table_body.find_elements(By.CSS_SELECTOR, 'tr')\n",
    "# iterate over table_body_elements\n",
    "OddsInfoArray = []\n",
    "for body in table_body_elements:\n",
    "    body_elements = body.find_elements(By.CSS_SELECTOR, 'td')\n",
    "\n",
    "    OddsInfo = {}\n",
    "    OddsInfo['bookie'] = str(body_elements[0].text)\n",
    "    OddsInfo['odds_1'] = float(body_elements[1].text.split('\\n')[0])\n",
    "    OddsInfo['timestamp_1'] = str(body_elements[1].text.split('\\n')[1])\n",
    "    OddsInfo['odds_X'] = float(body_elements[2].text.split('\\n')[0])\n",
    "    OddsInfo['timestamp_X'] = str(body_elements[2].text.split('\\n')[1])\n",
    "    OddsInfo['odds_2'] = float(body_elements[3].text.split('\\n')[0])\n",
    "    OddsInfo['timestamp_2'] = str(body_elements[3].text.split('\\n')[1])\n",
    "    OddsInfoArray.append(OddsInfo)"
   ]
  },
  {
   "cell_type": "code",
   "execution_count": 11,
   "metadata": {},
   "outputs": [
    {
     "data": {
      "text/plain": [
       "True"
      ]
     },
     "execution_count": 11,
     "metadata": {},
     "output_type": "execute_result"
    }
   ],
   "source": [
    "### check if games are present:\n",
    "str(container_element.text) == 'No advantageous bet opportunities currently available.'"
   ]
  },
  {
   "cell_type": "code",
   "execution_count": null,
   "metadata": {},
   "outputs": [],
   "source": []
  },
  {
   "cell_type": "code",
   "execution_count": null,
   "metadata": {},
   "outputs": [],
   "source": []
  },
  {
   "cell_type": "code",
   "execution_count": null,
   "metadata": {},
   "outputs": [],
   "source": []
  },
  {
   "cell_type": "code",
   "execution_count": 5,
   "metadata": {},
   "outputs": [],
   "source": [
    "### extract information from each suggested game\n",
    "extracted_info = []\n",
    "for game in suggested_games:\n",
    "    extracted_info.append([element.text for element in game.find_elements_by_css_selector('td')])"
   ]
  },
  {
   "cell_type": "code",
   "execution_count": 6,
   "metadata": {},
   "outputs": [],
   "source": []
  },
  {
   "cell_type": "code",
   "execution_count": 7,
   "metadata": {},
   "outputs": [
    {
     "data": {
      "text/plain": [
       "[<selenium.webdriver.firefox.webelement.FirefoxWebElement (session=\"2a6be97e-9a40-4a4e-b310-6573c21e7116\", element=\"8ef174f2-7806-2549-b2e1-b0f14a6cf35d\")>]"
      ]
     },
     "execution_count": 7,
     "metadata": {},
     "output_type": "execute_result"
    }
   ],
   "source": [
    "odds_tables"
   ]
  },
  {
   "cell_type": "code",
   "execution_count": 123,
   "metadata": {},
   "outputs": [],
   "source": [
    "odd_table_rows = odd_table.find_element_by_class_name('accordian-body')\\\n",
    "    .find_element_by_css_selector('tbody')\\\n",
    "    .find_elements_by_css_selector('tr')\n",
    "    \n",
    "row = odd_table_rows[0]"
   ]
  },
  {
   "cell_type": "code",
   "execution_count": 134,
   "metadata": {},
   "outputs": [
    {
     "name": "stdout",
     "output_type": "stream",
     "text": [
      "10Bet\n",
      "1.50\n",
      "2018-01-07 23:01:00\n",
      "3.90\n",
      "2018-01-07 23:01:00\n",
      "6.95\n",
      "2018-01-07 23:01:00\n"
     ]
    }
   ],
   "source": [
    "for el in row.find_elements(By.CSS_SELECTOR,'td'):\n",
    "    print el.text"
   ]
  },
  {
   "cell_type": "code",
   "execution_count": 135,
   "metadata": {},
   "outputs": [
    {
     "data": {
      "text/plain": [
       "u'6.95\\n2018-01-07 23:01:00'"
      ]
     },
     "execution_count": 135,
     "metadata": {},
     "output_type": "execute_result"
    }
   ],
   "source": [
    "el.text"
   ]
  },
  {
   "cell_type": "code",
   "execution_count": null,
   "metadata": {},
   "outputs": [],
   "source": []
  }
 ],
 "metadata": {
  "kernelspec": {
   "display_name": "Python 2",
   "language": "python",
   "name": "python2"
  },
  "language_info": {
   "codemirror_mode": {
    "name": "ipython",
    "version": 2
   },
   "file_extension": ".py",
   "mimetype": "text/x-python",
   "name": "python",
   "nbconvert_exporter": "python",
   "pygments_lexer": "ipython2",
   "version": "2.7.14"
  }
 },
 "nbformat": 4,
 "nbformat_minor": 2
}
