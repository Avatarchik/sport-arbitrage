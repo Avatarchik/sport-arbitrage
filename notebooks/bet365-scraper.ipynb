{
 "cells": [
  {
   "cell_type": "markdown",
   "metadata": {},
   "source": [
    "# bet365-scraper\n",
    "\n",
    "In this script, we scrap football information from bet365"
   ]
  },
  {
   "cell_type": "code",
   "execution_count": 65,
   "metadata": {},
   "outputs": [],
   "source": [
    "### imports\n",
    "from selenium import webdriver\n",
    "from selenium.webdriver.common.by import By\n",
    "from selenium.webdriver.support.ui import WebDriverWait\n",
    "from selenium.webdriver.support import expected_conditions as EC"
   ]
  },
  {
   "cell_type": "code",
   "execution_count": 82,
   "metadata": {},
   "outputs": [],
   "source": [
    "### connect to bet365.com and travel to games list\n",
    "# connect to site\n",
    "url = 'https://www.bet365.com/en/'\n",
    "driver = webdriver.Firefox()\n",
    "driver.get(url)\n",
    "\n",
    "# click on sports banner, once it is loaded\n",
    "sports_banner = WebDriverWait(driver,5).until(\n",
    "    EC.presence_of_element_located((By.ID, 'dv1'))\n",
    ")\n",
    "sports_banner.click()\n",
    "\n",
    "# click on 'Elite Euro List', once previous page is loaded\n",
    "top_coupons = WebDriverWait(driver,5).until(\n",
    "    EC.presence_of_element_located((By.CLASS_NAME, 'tc-TopCouponStemRenderer'))\n",
    ")\n",
    "top_coupons.find_elements_by_class_name('tc-TopCouponLinkButton')[1].click()\n",
    "\n",
    "# change odds to decimal\n",
    "odds_selector = WebDriverWait(driver,5).until(\n",
    "    EC.presence_of_element_located((By.CLASS_NAME, 'hm-OddsDropDownSelections.hm-DropDownSelections'))\n",
    ")\n",
    "odds_selector.click()\n",
    "\n",
    "odds_items = WebDriverWait(driver,5).until(\n",
    "    EC.presence_of_all_elements_located((By.CLASS_NAME, 'hm-DropDownSelections_Item'))\n",
    ")\n",
    "odds_items[1].click()"
   ]
  },
  {
   "cell_type": "code",
   "execution_count": 81,
   "metadata": {},
   "outputs": [
    {
     "data": {
      "text/plain": [
       "3"
      ]
     },
     "execution_count": 81,
     "metadata": {},
     "output_type": "execute_result"
    }
   ],
   "source": []
  },
  {
   "cell_type": "code",
   "execution_count": 75,
   "metadata": {},
   "outputs": [],
   "source": []
  },
  {
   "cell_type": "code",
   "execution_count": 16,
   "metadata": {},
   "outputs": [],
   "source": []
  }
 ],
 "metadata": {
  "kernelspec": {
   "display_name": "Python 2",
   "language": "python",
   "name": "python2"
  },
  "language_info": {
   "codemirror_mode": {
    "name": "ipython",
    "version": 2
   },
   "file_extension": ".py",
   "mimetype": "text/x-python",
   "name": "python",
   "nbconvert_exporter": "python",
   "pygments_lexer": "ipython2",
   "version": "2.7.14"
  }
 },
 "nbformat": 4,
 "nbformat_minor": 2
}
