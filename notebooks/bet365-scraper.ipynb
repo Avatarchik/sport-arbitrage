{
 "cells": [
  {
   "cell_type": "markdown",
   "metadata": {},
   "source": [
    "# bet365-scraper\n",
    "\n",
    "In this script, we scrap football information from bet365"
   ]
  },
  {
   "cell_type": "code",
   "execution_count": 2,
   "metadata": {},
   "outputs": [],
   "source": [
    "### imports\n",
    "from selenium import webdriver\n",
    "from selenium.webdriver.common.by import By\n",
    "from selenium.webdriver.support.ui import WebDriverWait\n",
    "from selenium.webdriver.support import expected_conditions as EC"
   ]
  },
  {
   "cell_type": "code",
   "execution_count": 42,
   "metadata": {},
   "outputs": [
    {
     "ename": "WebDriverException",
     "evalue": "Message: unknown error: Element is not clickable at point (599, -5)\n  (Session info: chrome=64.0.3282.140)\n  (Driver info: chromedriver=2.34.522932 (4140ab217e1ca1bec0c4b4d1b148f3361eb3a03e),platform=Mac OS X 10.12.6 x86_64)\n",
     "output_type": "error",
     "traceback": [
      "\u001b[0;31m---------------------------------------------------------------------------\u001b[0m",
      "\u001b[0;31mWebDriverException\u001b[0m                        Traceback (most recent call last)",
      "\u001b[0;32m<ipython-input-42-39cbd935b11e>\u001b[0m in \u001b[0;36m<module>\u001b[0;34m()\u001b[0m\n\u001b[1;32m     39\u001b[0m     \u001b[0mEC\u001b[0m\u001b[0;34m.\u001b[0m\u001b[0mpresence_of_element_located\u001b[0m\u001b[0;34m(\u001b[0m\u001b[0;34m(\u001b[0m\u001b[0mBy\u001b[0m\u001b[0;34m.\u001b[0m\u001b[0mCLASS_NAME\u001b[0m\u001b[0;34m,\u001b[0m \u001b[0;34m\"sm-CreateCouponTab_Button\"\u001b[0m\u001b[0;34m)\u001b[0m\u001b[0;34m)\u001b[0m\u001b[0;34m\u001b[0m\u001b[0m\n\u001b[1;32m     40\u001b[0m )\n\u001b[0;32m---> 41\u001b[0;31m \u001b[0mel\u001b[0m\u001b[0;34m.\u001b[0m\u001b[0mclick\u001b[0m\u001b[0;34m(\u001b[0m\u001b[0;34m)\u001b[0m\u001b[0;34m\u001b[0m\u001b[0m\n\u001b[0m",
      "\u001b[0;32m/usr/local/lib/python2.7/site-packages/selenium/webdriver/remote/webelement.pyc\u001b[0m in \u001b[0;36mclick\u001b[0;34m(self)\u001b[0m\n\u001b[1;32m     78\u001b[0m     \u001b[0;32mdef\u001b[0m \u001b[0mclick\u001b[0m\u001b[0;34m(\u001b[0m\u001b[0mself\u001b[0m\u001b[0;34m)\u001b[0m\u001b[0;34m:\u001b[0m\u001b[0;34m\u001b[0m\u001b[0m\n\u001b[1;32m     79\u001b[0m         \u001b[0;34m\"\"\"Clicks the element.\"\"\"\u001b[0m\u001b[0;34m\u001b[0m\u001b[0m\n\u001b[0;32m---> 80\u001b[0;31m         \u001b[0mself\u001b[0m\u001b[0;34m.\u001b[0m\u001b[0m_execute\u001b[0m\u001b[0;34m(\u001b[0m\u001b[0mCommand\u001b[0m\u001b[0;34m.\u001b[0m\u001b[0mCLICK_ELEMENT\u001b[0m\u001b[0;34m)\u001b[0m\u001b[0;34m\u001b[0m\u001b[0m\n\u001b[0m\u001b[1;32m     81\u001b[0m \u001b[0;34m\u001b[0m\u001b[0m\n\u001b[1;32m     82\u001b[0m     \u001b[0;32mdef\u001b[0m \u001b[0msubmit\u001b[0m\u001b[0;34m(\u001b[0m\u001b[0mself\u001b[0m\u001b[0;34m)\u001b[0m\u001b[0;34m:\u001b[0m\u001b[0;34m\u001b[0m\u001b[0m\n",
      "\u001b[0;32m/usr/local/lib/python2.7/site-packages/selenium/webdriver/remote/webelement.pyc\u001b[0m in \u001b[0;36m_execute\u001b[0;34m(self, command, params)\u001b[0m\n\u001b[1;32m    626\u001b[0m             \u001b[0mparams\u001b[0m \u001b[0;34m=\u001b[0m \u001b[0;34m{\u001b[0m\u001b[0;34m}\u001b[0m\u001b[0;34m\u001b[0m\u001b[0m\n\u001b[1;32m    627\u001b[0m         \u001b[0mparams\u001b[0m\u001b[0;34m[\u001b[0m\u001b[0;34m'id'\u001b[0m\u001b[0;34m]\u001b[0m \u001b[0;34m=\u001b[0m \u001b[0mself\u001b[0m\u001b[0;34m.\u001b[0m\u001b[0m_id\u001b[0m\u001b[0;34m\u001b[0m\u001b[0m\n\u001b[0;32m--> 628\u001b[0;31m         \u001b[0;32mreturn\u001b[0m \u001b[0mself\u001b[0m\u001b[0;34m.\u001b[0m\u001b[0m_parent\u001b[0m\u001b[0;34m.\u001b[0m\u001b[0mexecute\u001b[0m\u001b[0;34m(\u001b[0m\u001b[0mcommand\u001b[0m\u001b[0;34m,\u001b[0m \u001b[0mparams\u001b[0m\u001b[0;34m)\u001b[0m\u001b[0;34m\u001b[0m\u001b[0m\n\u001b[0m\u001b[1;32m    629\u001b[0m \u001b[0;34m\u001b[0m\u001b[0m\n\u001b[1;32m    630\u001b[0m     \u001b[0;32mdef\u001b[0m \u001b[0mfind_element\u001b[0m\u001b[0;34m(\u001b[0m\u001b[0mself\u001b[0m\u001b[0;34m,\u001b[0m \u001b[0mby\u001b[0m\u001b[0;34m=\u001b[0m\u001b[0mBy\u001b[0m\u001b[0;34m.\u001b[0m\u001b[0mID\u001b[0m\u001b[0;34m,\u001b[0m \u001b[0mvalue\u001b[0m\u001b[0;34m=\u001b[0m\u001b[0mNone\u001b[0m\u001b[0;34m)\u001b[0m\u001b[0;34m:\u001b[0m\u001b[0;34m\u001b[0m\u001b[0m\n",
      "\u001b[0;32m/usr/local/lib/python2.7/site-packages/selenium/webdriver/remote/webdriver.pyc\u001b[0m in \u001b[0;36mexecute\u001b[0;34m(self, driver_command, params)\u001b[0m\n\u001b[1;32m    310\u001b[0m         \u001b[0mresponse\u001b[0m \u001b[0;34m=\u001b[0m \u001b[0mself\u001b[0m\u001b[0;34m.\u001b[0m\u001b[0mcommand_executor\u001b[0m\u001b[0;34m.\u001b[0m\u001b[0mexecute\u001b[0m\u001b[0;34m(\u001b[0m\u001b[0mdriver_command\u001b[0m\u001b[0;34m,\u001b[0m \u001b[0mparams\u001b[0m\u001b[0;34m)\u001b[0m\u001b[0;34m\u001b[0m\u001b[0m\n\u001b[1;32m    311\u001b[0m         \u001b[0;32mif\u001b[0m \u001b[0mresponse\u001b[0m\u001b[0;34m:\u001b[0m\u001b[0;34m\u001b[0m\u001b[0m\n\u001b[0;32m--> 312\u001b[0;31m             \u001b[0mself\u001b[0m\u001b[0;34m.\u001b[0m\u001b[0merror_handler\u001b[0m\u001b[0;34m.\u001b[0m\u001b[0mcheck_response\u001b[0m\u001b[0;34m(\u001b[0m\u001b[0mresponse\u001b[0m\u001b[0;34m)\u001b[0m\u001b[0;34m\u001b[0m\u001b[0m\n\u001b[0m\u001b[1;32m    313\u001b[0m             response['value'] = self._unwrap_value(\n\u001b[1;32m    314\u001b[0m                 response.get('value', None))\n",
      "\u001b[0;32m/usr/local/lib/python2.7/site-packages/selenium/webdriver/remote/errorhandler.pyc\u001b[0m in \u001b[0;36mcheck_response\u001b[0;34m(self, response)\u001b[0m\n\u001b[1;32m    235\u001b[0m         \u001b[0;32melif\u001b[0m \u001b[0mexception_class\u001b[0m \u001b[0;34m==\u001b[0m \u001b[0mUnexpectedAlertPresentException\u001b[0m \u001b[0;32mand\u001b[0m \u001b[0;34m'alert'\u001b[0m \u001b[0;32min\u001b[0m \u001b[0mvalue\u001b[0m\u001b[0;34m:\u001b[0m\u001b[0;34m\u001b[0m\u001b[0m\n\u001b[1;32m    236\u001b[0m             \u001b[0;32mraise\u001b[0m \u001b[0mexception_class\u001b[0m\u001b[0;34m(\u001b[0m\u001b[0mmessage\u001b[0m\u001b[0;34m,\u001b[0m \u001b[0mscreen\u001b[0m\u001b[0;34m,\u001b[0m \u001b[0mstacktrace\u001b[0m\u001b[0;34m,\u001b[0m \u001b[0mvalue\u001b[0m\u001b[0;34m[\u001b[0m\u001b[0;34m'alert'\u001b[0m\u001b[0;34m]\u001b[0m\u001b[0;34m.\u001b[0m\u001b[0mget\u001b[0m\u001b[0;34m(\u001b[0m\u001b[0;34m'text'\u001b[0m\u001b[0;34m)\u001b[0m\u001b[0;34m)\u001b[0m\u001b[0;34m\u001b[0m\u001b[0m\n\u001b[0;32m--> 237\u001b[0;31m         \u001b[0;32mraise\u001b[0m \u001b[0mexception_class\u001b[0m\u001b[0;34m(\u001b[0m\u001b[0mmessage\u001b[0m\u001b[0;34m,\u001b[0m \u001b[0mscreen\u001b[0m\u001b[0;34m,\u001b[0m \u001b[0mstacktrace\u001b[0m\u001b[0;34m)\u001b[0m\u001b[0;34m\u001b[0m\u001b[0m\n\u001b[0m\u001b[1;32m    238\u001b[0m \u001b[0;34m\u001b[0m\u001b[0m\n\u001b[1;32m    239\u001b[0m     \u001b[0;32mdef\u001b[0m \u001b[0m_value_or_default\u001b[0m\u001b[0;34m(\u001b[0m\u001b[0mself\u001b[0m\u001b[0;34m,\u001b[0m \u001b[0mobj\u001b[0m\u001b[0;34m,\u001b[0m \u001b[0mkey\u001b[0m\u001b[0;34m,\u001b[0m \u001b[0mdefault\u001b[0m\u001b[0;34m)\u001b[0m\u001b[0;34m:\u001b[0m\u001b[0;34m\u001b[0m\u001b[0m\n",
      "\u001b[0;31mWebDriverException\u001b[0m: Message: unknown error: Element is not clickable at point (599, -5)\n  (Session info: chrome=64.0.3282.140)\n  (Driver info: chromedriver=2.34.522932 (4140ab217e1ca1bec0c4b4d1b148f3361eb3a03e),platform=Mac OS X 10.12.6 x86_64)\n"
     ]
    }
   ],
   "source": [
    "### initialize driver and connect to website\n",
    "driver = webdriver.Chrome()\n",
    "driver.get('https://www.bet365.com/en/')\n",
    "# go to sports page\n",
    "# click on sports banner, once it is loaded\n",
    "sports_banner = WebDriverWait(driver,10).until(\n",
    "    EC.presence_of_element_located((By.ID, 'dv1'))\n",
    ")\n",
    "sports_banner.click()\n",
    "# change odds to decimal\n",
    "oddsHeaderModule = WebDriverWait(driver,10).until(\n",
    "    EC.presence_of_element_located((By.CLASS_NAME, \"hm-HeaderModule\"))\n",
    ")\n",
    "oddsSelectorParent = WebDriverWait(driver,10).until(\n",
    "    EC.presence_of_element_located((By.CLASS_NAME, \"hm-HeaderModule_Secondary\"))\n",
    ")\n",
    "oddsSelector = WebDriverWait(driver,10).until(\n",
    "    EC.presence_of_element_located((By.CLASS_NAME, \"hm-OddsDropDownSelections\"))\n",
    ")\n",
    "oddsSelector.click()\n",
    "oddsSelector.find_elements(By.CLASS_NAME, \"hm-DropDownSelections_Item\")[1].click()\n",
    "# select Soccer\n",
    "for element in driver.find_elements(By.CLASS_NAME, \"wn-Classification\"):\n",
    "    if element.text == \"Soccer\": \n",
    "        element.click()\n",
    "        break\n",
    "### select Italy A B games\n",
    "fullTimeResults = WebDriverWait(driver,10).until(\n",
    "    EC.presence_of_all_elements_located((By.CLASS_NAME, \"sm-MarketGroup\"))\n",
    ")[0]\n",
    "for element in WebDriverWait(driver,10).until(EC.presence_of_all_elements_located((By.CLASS_NAME, \"sm-Market\"))):\n",
    "    if element.text == 'Italy':\n",
    "        element.click()\n",
    "        break\n",
    "WebDriverWait(element,10).until(\n",
    "    EC.presence_of_element_located((By.CLASS_NAME, \"sm-Market_HeaderCheckBox\"))\n",
    ").click()\n",
    "el = WebDriverWait(driver,10).until(\n",
    "    EC.presence_of_element_located((By.CLASS_NAME, \"sm-CreateCouponTab_Button\"))\n",
    ")\n",
    "el.click()"
   ]
  },
  {
   "cell_type": "code",
   "execution_count": 36,
   "metadata": {},
   "outputs": [],
   "source": []
  },
  {
   "cell_type": "code",
   "execution_count": 37,
   "metadata": {},
   "outputs": [],
   "source": []
  },
  {
   "cell_type": "code",
   "execution_count": 44,
   "metadata": {},
   "outputs": [],
   "source": []
  },
  {
   "cell_type": "code",
   "execution_count": null,
   "metadata": {},
   "outputs": [],
   "source": []
  },
  {
   "cell_type": "code",
   "execution_count": null,
   "metadata": {},
   "outputs": [],
   "source": []
  },
  {
   "cell_type": "code",
   "execution_count": null,
   "metadata": {},
   "outputs": [],
   "source": []
  },
  {
   "cell_type": "code",
   "execution_count": null,
   "metadata": {},
   "outputs": [],
   "source": []
  },
  {
   "cell_type": "code",
   "execution_count": 80,
   "metadata": {},
   "outputs": [
    {
     "ename": "TimeoutException",
     "evalue": "Message: \n",
     "output_type": "error",
     "traceback": [
      "\u001b[0;31m---------------------------------------------------------------------------\u001b[0m",
      "\u001b[0;31mTimeoutException\u001b[0m                          Traceback (most recent call last)",
      "\u001b[0;32m<ipython-input-80-333bcd86efd8>\u001b[0m in \u001b[0;36m<module>\u001b[0;34m()\u001b[0m\n\u001b[1;32m     13\u001b[0m \u001b[0;31m# click on 'Elite Euro List', once previous page is loaded\u001b[0m\u001b[0;34m\u001b[0m\u001b[0;34m\u001b[0m\u001b[0m\n\u001b[1;32m     14\u001b[0m top_coupons = WebDriverWait(driver,10).until(\n\u001b[0;32m---> 15\u001b[0;31m     \u001b[0mEC\u001b[0m\u001b[0;34m.\u001b[0m\u001b[0mpresence_of_element_located\u001b[0m\u001b[0;34m(\u001b[0m\u001b[0;34m(\u001b[0m\u001b[0mBy\u001b[0m\u001b[0;34m.\u001b[0m\u001b[0mCLASS_NAME\u001b[0m\u001b[0;34m,\u001b[0m \u001b[0;34m'tc-TopCouponStemRenderer'\u001b[0m\u001b[0;34m)\u001b[0m\u001b[0;34m)\u001b[0m\u001b[0;34m\u001b[0m\u001b[0m\n\u001b[0m\u001b[1;32m     16\u001b[0m )\n\u001b[1;32m     17\u001b[0m \u001b[0mtop_coupons\u001b[0m\u001b[0;34m.\u001b[0m\u001b[0mfind_elements_by_class_name\u001b[0m\u001b[0;34m(\u001b[0m\u001b[0;34m'tc-TopCouponLinkButton'\u001b[0m\u001b[0;34m)\u001b[0m\u001b[0;34m[\u001b[0m\u001b[0;36m1\u001b[0m\u001b[0;34m]\u001b[0m\u001b[0;34m.\u001b[0m\u001b[0mclick\u001b[0m\u001b[0;34m(\u001b[0m\u001b[0;34m)\u001b[0m\u001b[0;34m\u001b[0m\u001b[0m\n",
      "\u001b[0;32m/usr/local/lib/python2.7/site-packages/selenium/webdriver/support/wait.pyc\u001b[0m in \u001b[0;36muntil\u001b[0;34m(self, method, message)\u001b[0m\n\u001b[1;32m     78\u001b[0m             \u001b[0;32mif\u001b[0m \u001b[0mtime\u001b[0m\u001b[0;34m.\u001b[0m\u001b[0mtime\u001b[0m\u001b[0;34m(\u001b[0m\u001b[0;34m)\u001b[0m \u001b[0;34m>\u001b[0m \u001b[0mend_time\u001b[0m\u001b[0;34m:\u001b[0m\u001b[0;34m\u001b[0m\u001b[0m\n\u001b[1;32m     79\u001b[0m                 \u001b[0;32mbreak\u001b[0m\u001b[0;34m\u001b[0m\u001b[0m\n\u001b[0;32m---> 80\u001b[0;31m         \u001b[0;32mraise\u001b[0m \u001b[0mTimeoutException\u001b[0m\u001b[0;34m(\u001b[0m\u001b[0mmessage\u001b[0m\u001b[0;34m,\u001b[0m \u001b[0mscreen\u001b[0m\u001b[0;34m,\u001b[0m \u001b[0mstacktrace\u001b[0m\u001b[0;34m)\u001b[0m\u001b[0;34m\u001b[0m\u001b[0m\n\u001b[0m\u001b[1;32m     81\u001b[0m \u001b[0;34m\u001b[0m\u001b[0m\n\u001b[1;32m     82\u001b[0m     \u001b[0;32mdef\u001b[0m \u001b[0muntil_not\u001b[0m\u001b[0;34m(\u001b[0m\u001b[0mself\u001b[0m\u001b[0;34m,\u001b[0m \u001b[0mmethod\u001b[0m\u001b[0;34m,\u001b[0m \u001b[0mmessage\u001b[0m\u001b[0;34m=\u001b[0m\u001b[0;34m''\u001b[0m\u001b[0;34m)\u001b[0m\u001b[0;34m:\u001b[0m\u001b[0;34m\u001b[0m\u001b[0m\n",
      "\u001b[0;31mTimeoutException\u001b[0m: Message: \n"
     ]
    }
   ],
   "source": [
    "### connect to bet365.com and travel to games list\n",
    "# connect to site\n",
    "url = 'https://www.bet365.com/en/'\n",
    "driver = webdriver.Firefox()\n",
    "driver.get(url)\n",
    "\n",
    "# click on sports banner, once it is loaded\n",
    "sports_banner = WebDriverWait(driver,10).until(\n",
    "    EC.presence_of_element_located((By.ID, 'dv1'))\n",
    ")\n",
    "sports_banner.click()\n",
    "\n",
    "# click on 'Elite Euro List', once previous page is loaded\n",
    "top_coupons = WebDriverWait(driver,10).until(\n",
    "    EC.presence_of_element_located((By.CLASS_NAME, 'tc-TopCouponStemRenderer'))\n",
    ")\n",
    "top_coupons.find_elements_by_class_name('tc-TopCouponLinkButton')[1].click()\n",
    "\n",
    "# change odds to decimal\n",
    "odds_selector = WebDriverWait(driver,10).until(\n",
    "    EC.presence_of_element_located((By.CLASS_NAME, 'hm-OddsDropDownSelections.hm-DropDownSelections'))\n",
    ")\n",
    "odds_selector.click()\n",
    "\n",
    "odds_items = WebDriverWait(driver,10).until(\n",
    "    EC.presence_of_all_elements_located((By.CLASS_NAME, 'hm-DropDownSelections_Item'))\n",
    ")\n",
    "odds_items[1].click()"
   ]
  },
  {
   "cell_type": "code",
   "execution_count": 52,
   "metadata": {},
   "outputs": [],
   "source": [
    "### get list of the major leagues matches\n",
    "leagues = driver.find_element(By.CLASS_NAME, 'gl-MarketGrid').find_elements(By.CLASS_NAME, 'gl-MarketGroup.cm-CouponMarketGroup')"
   ]
  },
  {
   "cell_type": "code",
   "execution_count": 53,
   "metadata": {},
   "outputs": [],
   "source": [
    "### extract information from each league\n",
    "league = leagues[0]\n",
    "# get title of the league\n",
    "league_title = str(league.find_element(By.CLASS_NAME, 'cm-CouponMarketGroupButton_Title').text)\n",
    "# get grid, containing matches, times and odds\n",
    "matches_odds_grid = league.find_element(By.CLASS_NAME, 'gl-MarketGroup_Wrapper')"
   ]
  },
  {
   "cell_type": "code",
   "execution_count": 54,
   "metadata": {},
   "outputs": [],
   "source": [
    "# extract matches and odds from grid\n",
    "matches_row = matches_odds_grid.find_element(By.CLASS_NAME, 'sl-MarketCouponFixtureLabelBase.gl-Market_HasLabels')\n",
    "[odds_1_row, odds_X_row, odds_2_row] = matches_odds_grid.find_elements(By.CLASS_NAME, 'sl-MarketCouponValuesExplicit33')"
   ]
  },
  {
   "cell_type": "code",
   "execution_count": 55,
   "metadata": {},
   "outputs": [],
   "source": [
    "# get only elements containing date or game\n",
    "elements_to_filter = matches_row.find_elements(By.CSS_SELECTOR, 'div')\n",
    "first_date_class_name = u'gl-MarketColumnHeader sl-MarketHeaderLabel sl-MarketHeaderLabel_Date '\n",
    "another_date_class_name = u'gl-MarketColumnHeader sl-MarketHeaderLabel_Date sl-MarketHeaderLabel '\n",
    "game_class_name = u'sl-CouponParticipantWithBookCloses sl-CouponParticipantIPPGBase '\n",
    "last_game_class_name = u'sl-CouponParticipantWithBookCloses sl-CouponParticipantIPPGBase sl-MarketCouponAdvancedBase_LastChild '\n",
    "classes_to_keep = [first_date_class_name, another_date_class_name, game_class_name, last_game_class_name ]\n",
    "filtered_elements = [element for element in elements_to_filter if element.get_attribute('class') in classes_to_keep]"
   ]
  },
  {
   "cell_type": "code",
   "execution_count": 75,
   "metadata": {},
   "outputs": [],
   "source": [
    "# split filtered elements into blocks, each one for a different day\n",
    "date_indeces = [i for i, j in enumerate(filtered_elements) \n",
    "                if j.get_attribute('class') in [first_date_class_name, another_date_class_name]]\n",
    "\n",
    "# get list of elements, frow which slice by date\n",
    "games_list = filtered_elements\n",
    "odds_1_list = odds_1_row.text.split('\\n')\n",
    "odds_X_list = odds_X_row.text.split('\\n')\n",
    "odds_2_list = odds_2_row.text.split('\\n')\n",
    "# define empty dictionaries, to contain games and odds for each date\n",
    "block_of_games = []\n",
    "block_of_1_odds = []\n",
    "block_of_X_odds = []\n",
    "block_of_2_odds = []\n",
    "# for each date (starting from last), get slice of games and odds\n",
    "for date in date_indeces[::-1]:\n",
    "    # append block for the given date\n",
    "    block_of_games.append(games_list[date:])\n",
    "    block_of_1_odds.append(odds_1_list[date:])\n",
    "    block_of_X_odds.append(odds_X_list[date:])\n",
    "    block_of_2_odds.append(odds_2_list[date:])\n",
    "    # remove entries for that date from original data\n",
    "    games_list = games_list[:date]\n",
    "    odds_1_list = odds_1_list[:date]\n",
    "    odds_X_list = odds_X_list[:date]\n",
    "    odds_2_list = odds_2_list[:date]\n",
    "# finally, revert blocks, in order the have them in cronological order\n",
    "block_of_games = block_of_games[::-1]\n",
    "block_of_1_odds = block_of_1_odds[::-1]\n",
    "block_of_X_odds = block_of_X_odds[::-1]\n",
    "block_of_2_odds = block_of_2_odds[::-1]"
   ]
  },
  {
   "cell_type": "code",
   "execution_count": 76,
   "metadata": {},
   "outputs": [
    {
     "data": {
      "text/plain": [
       "[[u'1',\n",
       "  u'6.50',\n",
       "  u'1.50',\n",
       "  u'7.00',\n",
       "  u'2.15',\n",
       "  u'1.85',\n",
       "  u'2.05',\n",
       "  u'2.05',\n",
       "  u'1.12'],\n",
       " [u'1', u'5.75'],\n",
       " [u'1', u'12.00'],\n",
       " [u'1', u'6.00', u'2.37', u'9.00'],\n",
       " [u'1', u'1.22', u'2.30', u'2.25', u'1.66', u'1.10', u'2.25', u'2.15']]"
      ]
     },
     "execution_count": 76,
     "metadata": {},
     "output_type": "execute_result"
    }
   ],
   "source": [
    "block_of_1_odds"
   ]
  },
  {
   "cell_type": "code",
   "execution_count": 62,
   "metadata": {},
   "outputs": [
    {
     "data": {
      "text/plain": [
       "[<selenium.webdriver.firefox.webelement.FirefoxWebElement (session=\"3d09f19e-4165-f94c-97df-d2aed36fa7dc\", element=\"aeb61d24-f2c6-1a47-a5c7-aa30f3639bbf\")>,\n",
       " <selenium.webdriver.firefox.webelement.FirefoxWebElement (session=\"3d09f19e-4165-f94c-97df-d2aed36fa7dc\", element=\"d842fc80-e4e5-ed40-9b12-fe11cc556a68\")>,\n",
       " <selenium.webdriver.firefox.webelement.FirefoxWebElement (session=\"3d09f19e-4165-f94c-97df-d2aed36fa7dc\", element=\"15166e86-69b2-c043-bb72-05bf86f11e9f\")>,\n",
       " <selenium.webdriver.firefox.webelement.FirefoxWebElement (session=\"3d09f19e-4165-f94c-97df-d2aed36fa7dc\", element=\"1f84a0a0-27fd-b949-9a2e-f1eded70d964\")>,\n",
       " <selenium.webdriver.firefox.webelement.FirefoxWebElement (session=\"3d09f19e-4165-f94c-97df-d2aed36fa7dc\", element=\"495f7fc5-0511-fc41-b251-a0f1452d1f6c\")>,\n",
       " <selenium.webdriver.firefox.webelement.FirefoxWebElement (session=\"3d09f19e-4165-f94c-97df-d2aed36fa7dc\", element=\"73638dca-8b6a-784f-8398-d68f88a6453b\")>,\n",
       " <selenium.webdriver.firefox.webelement.FirefoxWebElement (session=\"3d09f19e-4165-f94c-97df-d2aed36fa7dc\", element=\"68fcf3f2-ec8b-1142-803b-db91b8ca26d4\")>,\n",
       " <selenium.webdriver.firefox.webelement.FirefoxWebElement (session=\"3d09f19e-4165-f94c-97df-d2aed36fa7dc\", element=\"6505e4b5-68ec-8345-84fc-46aaec50115d\")>,\n",
       " <selenium.webdriver.firefox.webelement.FirefoxWebElement (session=\"3d09f19e-4165-f94c-97df-d2aed36fa7dc\", element=\"ec6e12ca-8ffe-4149-958d-eac7499a2dd6\")>,\n",
       " <selenium.webdriver.firefox.webelement.FirefoxWebElement (session=\"3d09f19e-4165-f94c-97df-d2aed36fa7dc\", element=\"24e808c5-3176-a14d-b7c3-47c1157be624\")>,\n",
       " <selenium.webdriver.firefox.webelement.FirefoxWebElement (session=\"3d09f19e-4165-f94c-97df-d2aed36fa7dc\", element=\"52f8ed57-0bb5-7d4f-b4ca-43bb88c7f881\")>,\n",
       " <selenium.webdriver.firefox.webelement.FirefoxWebElement (session=\"3d09f19e-4165-f94c-97df-d2aed36fa7dc\", element=\"3c4de96f-1b9e-9948-a25e-f8169b9428cc\")>,\n",
       " <selenium.webdriver.firefox.webelement.FirefoxWebElement (session=\"3d09f19e-4165-f94c-97df-d2aed36fa7dc\", element=\"88f20002-9ee4-1c4e-b50c-07dcc7ec339e\")>,\n",
       " <selenium.webdriver.firefox.webelement.FirefoxWebElement (session=\"3d09f19e-4165-f94c-97df-d2aed36fa7dc\", element=\"95e514ea-a843-ac48-b2d6-268ddd721178\")>,\n",
       " <selenium.webdriver.firefox.webelement.FirefoxWebElement (session=\"3d09f19e-4165-f94c-97df-d2aed36fa7dc\", element=\"f0a8d02b-ad45-f748-b578-339a8333d646\")>,\n",
       " <selenium.webdriver.firefox.webelement.FirefoxWebElement (session=\"3d09f19e-4165-f94c-97df-d2aed36fa7dc\", element=\"cd1d5c94-a512-3f46-8637-f5dfa8da6727\")>,\n",
       " <selenium.webdriver.firefox.webelement.FirefoxWebElement (session=\"3d09f19e-4165-f94c-97df-d2aed36fa7dc\", element=\"f119d91a-dc69-be42-a222-e1e9b1ddbca8\")>,\n",
       " <selenium.webdriver.firefox.webelement.FirefoxWebElement (session=\"3d09f19e-4165-f94c-97df-d2aed36fa7dc\", element=\"80f11b33-c17c-994e-95e0-472bb95369d9\")>,\n",
       " <selenium.webdriver.firefox.webelement.FirefoxWebElement (session=\"3d09f19e-4165-f94c-97df-d2aed36fa7dc\", element=\"1e88b607-f639-1545-b915-4e46e08e7e60\")>,\n",
       " <selenium.webdriver.firefox.webelement.FirefoxWebElement (session=\"3d09f19e-4165-f94c-97df-d2aed36fa7dc\", element=\"e4ab1c17-3085-3543-990b-48def3b3ef84\")>,\n",
       " <selenium.webdriver.firefox.webelement.FirefoxWebElement (session=\"3d09f19e-4165-f94c-97df-d2aed36fa7dc\", element=\"2131ecf6-8fc7-2347-9636-b5665cd3ceb5\")>,\n",
       " <selenium.webdriver.firefox.webelement.FirefoxWebElement (session=\"3d09f19e-4165-f94c-97df-d2aed36fa7dc\", element=\"f00749dc-0359-8949-8329-f76f9c7ee4d1\")>,\n",
       " <selenium.webdriver.firefox.webelement.FirefoxWebElement (session=\"3d09f19e-4165-f94c-97df-d2aed36fa7dc\", element=\"7d5f181d-3409-1246-b6ce-efd7a76c419a\")>,\n",
       " <selenium.webdriver.firefox.webelement.FirefoxWebElement (session=\"3d09f19e-4165-f94c-97df-d2aed36fa7dc\", element=\"7065f3b5-9edd-f442-8c88-e8458c569b56\")>,\n",
       " <selenium.webdriver.firefox.webelement.FirefoxWebElement (session=\"3d09f19e-4165-f94c-97df-d2aed36fa7dc\", element=\"c20e58a2-b593-9840-821f-7d4fe6d3469d\")>]"
      ]
     },
     "execution_count": 62,
     "metadata": {},
     "output_type": "execute_result"
    }
   ],
   "source": [
    "filtered_elements"
   ]
  },
  {
   "cell_type": "code",
   "execution_count": 40,
   "metadata": {},
   "outputs": [
    {
     "ename": "ValueError",
     "evalue": "list.remove(x): x not in list",
     "output_type": "error",
     "traceback": [
      "\u001b[0;31m---------------------------------------------------------------------------\u001b[0m",
      "\u001b[0;31mValueError\u001b[0m                                Traceback (most recent call last)",
      "\u001b[0;32m<ipython-input-40-19e7d24c4132>\u001b[0m in \u001b[0;36m<module>\u001b[0;34m()\u001b[0m\n\u001b[0;32m----> 1\u001b[0;31m \u001b[0mtst\u001b[0m\u001b[0;34m.\u001b[0m\u001b[0mremove\u001b[0m\u001b[0;34m(\u001b[0m\u001b[0mtst\u001b[0m\u001b[0;34m[\u001b[0m\u001b[0;34m-\u001b[0m\u001b[0;36m2\u001b[0m\u001b[0;34m:\u001b[0m\u001b[0;34m]\u001b[0m\u001b[0;34m)\u001b[0m\u001b[0;34m\u001b[0m\u001b[0m\n\u001b[0m",
      "\u001b[0;31mValueError\u001b[0m: list.remove(x): x not in list"
     ]
    }
   ],
   "source": [
    "tst.remove(tst[-2:])"
   ]
  }
 ],
 "metadata": {
  "kernelspec": {
   "display_name": "Python 2",
   "language": "python",
   "name": "python2"
  },
  "language_info": {
   "codemirror_mode": {
    "name": "ipython",
    "version": 2
   },
   "file_extension": ".py",
   "mimetype": "text/x-python",
   "name": "python",
   "nbconvert_exporter": "python",
   "pygments_lexer": "ipython2",
   "version": "2.7.14"
  }
 },
 "nbformat": 4,
 "nbformat_minor": 2
}
