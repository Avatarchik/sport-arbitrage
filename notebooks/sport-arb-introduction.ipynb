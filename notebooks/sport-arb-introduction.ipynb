{
 "cells": [
  {
   "cell_type": "markdown",
   "metadata": {},
   "source": [
    "# Sport Arbitrage: Introduction\n",
    "\n",
    "In this notebook, I follow the blog poster originaly here:\n",
    "http://epchan.blogspot.de/2018/01/a-novel-capital-booster-sports-arbitrage.html"
   ]
  },
  {
   "cell_type": "code",
   "execution_count": 1,
   "metadata": {},
   "outputs": [],
   "source": [
    "### imports\n",
    "import numpy as np"
   ]
  },
  {
   "cell_type": "code",
   "execution_count": 7,
   "metadata": {},
   "outputs": [
    {
     "name": "stdout",
     "output_type": "stream",
     "text": [
      "[[ 1.4  1.2  1.2]\n",
      " [ 8.8  9.5  9.1]\n",
      " [ 5.8  6.   6.8]]\n",
      "[[ 71.42857143  83.33333333  83.33333333]\n",
      " [ 11.36363636  10.52631579  10.98901099]\n",
      " [ 17.24137931  16.66666667  14.70588235]]\n"
     ]
    }
   ],
   "source": [
    "### define odds and compute probabilities\n",
    "odds = np.array([[1.4, 1.2, 1.2], [8.8, 9.5, 9.1], [5.8, 6, 6.8]])\n",
    "probabilities = 1./odds*100\n",
    "\n",
    "print odds\n",
    "print probabilities"
   ]
  },
  {
   "cell_type": "markdown",
   "metadata": {},
   "source": [
    "Arbitrage opportunity arrises, when the implied probability is less then 100%"
   ]
  },
  {
   "cell_type": "markdown",
   "metadata": {},
   "source": [
    "Next, we define a function which, once provided the probabilites matrix, computes the implied probability with minimum sum"
   ]
  },
  {
   "cell_type": "code",
   "execution_count": 28,
   "metadata": {},
   "outputs": [],
   "source": [
    "odds_rows, odds_columns = odds.shape\n",
    "odds_rows -= 1\n",
    "odds_columns -= 1\n",
    "\n"
   ]
  },
  {
   "cell_type": "code",
   "execution_count": 30,
   "metadata": {},
   "outputs": [
    {
     "data": {
      "text/plain": [
       "0.1111111111111111"
      ]
     },
     "execution_count": 30,
     "metadata": {},
     "output_type": "execute_result"
    }
   ],
   "source": [
    "2/18."
   ]
  }
 ],
 "metadata": {
  "kernelspec": {
   "display_name": "Python 2",
   "language": "python",
   "name": "python2"
  },
  "language_info": {
   "codemirror_mode": {
    "name": "ipython",
    "version": 2
   },
   "file_extension": ".py",
   "mimetype": "text/x-python",
   "name": "python",
   "nbconvert_exporter": "python",
   "pygments_lexer": "ipython2",
   "version": "2.7.14"
  }
 },
 "nbformat": 4,
 "nbformat_minor": 2
}
