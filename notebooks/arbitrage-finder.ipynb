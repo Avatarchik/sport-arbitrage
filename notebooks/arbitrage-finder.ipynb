{
 "cells": [
  {
   "cell_type": "markdown",
   "metadata": {},
   "source": [
    "# arbitrage-finder\n",
    "\n",
    "In this notebook, I am investigating the implementation of the arbitrage finder. The idea is to get the current odd matrices from the `dashboardScraper`, then for each matrix to investigate if there are arbitrage opportunities"
   ]
  },
  {
   "cell_type": "markdown",
   "metadata": {},
   "source": [
    "### Example\n",
    "This example is taken from http://epchan.blogspot.de/2018/01/a-novel-capital-booster-sports-arbitrage.html\n",
    "\n",
    "Suppose that the odd matrix is given by:\n",
    "    \n",
    "$$\n",
    "A = \n",
    "\\begin{bmatrix}\n",
    "1.4 & 1.2 & 1.2 \\\\\n",
    "8.8 & 9.5 & 9.1\\\\\n",
    "5.8 & 6.0 & 6.8\\\\\n",
    "\\end{bmatrix}\n",
    "$$\n",
    "and let $x_1$, $x_2$ and $x_3$ be the ammount we allocate on the outcomes of the first and second row, following http://epchan.blogspot.de/2018/01/a-novel-capital-booster-sports-arbitrage.html, there exists an arbotrage opportunity by betting $x_1$ on $1.4$, $x_2$ on $9.5$ and $x_3$ on 6.8. \n",
    "\n",
    "An arbitrage opportunity arrises, if the sum of the inverse maximum of the odds along each row is less then 1, more precisely, if\n",
    "\n",
    "$$\n",
    "\\sum_{i = 1}^n \\frac{1}{\\max_{j \\in J}d_{ij}} - 1 < 0\n",
    "$$\n",
    "\n",
    "In that case, the profit from the arbitrage is given by\n",
    "\n",
    "$$\n",
    "1 - \\sum_{i = 1}^n \\frac{1}{\\max_{j \\in J}d_{ij}}\n",
    "$$\n",
    "\n",
    "and the available capital has to be allocated along each bet with proportion:\n",
    "\n",
    "$$\n",
    "w_i = \\frac{P'_i}{\\sum_{i = 1}^n P'_i} \\qquad \\text{where} \\qquad P'_i = \\frac{1}{|J|}\\sum_{j \\in J} \\frac{1}{d_{ij}}\n",
    "$$\n",
    "\n",
    "In the example above $1 - (1/1.4 + 1/9.5 + 1/6.8) = 0.0333$, hence we can expect a profit of $3.34\\%$.\n",
    "\n",
    "We can extimate the probability of an event to occure, by the inverse of the corresponed odds:\n",
    "$$\n",
    "P'_1 = \\frac{1}{1.4} = 0.714 \\\\\n",
    "P'_X = \\frac{1}{9.5} = 0.105 \\\\\n",
    "P'_2 = \\frac{1}{6.8} = 0.147 \\\\\n",
    "$$\n",
    "and the amounth of capital, which has to be allocated on each bet is given by\n",
    "$$\n",
    "w_1 = \\frac{P'_1}{P'_1 + P'_X + P'_2} = 0.739 \\\\\n",
    "w_X = \\frac{P'_X}{P'_1 + P'_X + P'_2} = 0.109 \\\\\n",
    "w_2 = \\frac{P'_2}{P'_1 + P'_X + P'_2} = 0.152\n",
    "$$\n"
   ]
  },
  {
   "cell_type": "code",
   "execution_count": 94,
   "metadata": {},
   "outputs": [],
   "source": [
    "### imports\n",
    "import pandas as pd\n",
    "import sys\n",
    "\n",
    "sys.path.append('..')\n",
    "from src.dashboardScraper import DashboardScraper\n",
    "from src.arbitrageOptimizer import ArbitrageOptimizer\n"
   ]
  },
  {
   "cell_type": "code",
   "execution_count": 95,
   "metadata": {},
   "outputs": [],
   "source": [
    "### get current games\n",
    "scraper = DashboardScraper()\n",
    "scraper.connect()\n",
    "games = scraper.get_json_data()\n",
    "scraper.disconnect()"
   ]
  },
  {
   "cell_type": "code",
   "execution_count": 96,
   "metadata": {},
   "outputs": [
    {
     "name": "stdout",
     "output_type": "stream",
     "text": [
      "0.0784097651945\n",
      "None\n"
     ]
    }
   ],
   "source": [
    "### load game into the arbitrageOptimizer\n",
    "arbitrageOptimize = ArbitrageOptimizer()\n",
    "for game in games:\n",
    "    arbitrageOptimize.load_game(game)\n",
    "    print arbitrageOptimize.get_optimal_ratio()\n",
    "    print arbitrageOptimize.get_arbitrage_opportunity()"
   ]
  },
  {
   "cell_type": "code",
   "execution_count": 97,
   "metadata": {},
   "outputs": [
    {
     "data": {
      "text/plain": [
       "[{'game': {'best_bookie': 'Paddy Power',\n",
       "   'best_odds': 2.88,\n",
       "   'date': '2018-02-03 16:00:00',\n",
       "   'league': 'Northern Ireland: Irish Cup',\n",
       "   'match_title': 'Ballyclare vs. Glentoran',\n",
       "   'mean': 2.51,\n",
       "   'median': 2.88,\n",
       "   'result_to_bet': 'X',\n",
       "   'sport': 'soccer',\n",
       "   'time_to_match': '00:04:15',\n",
       "   'timestamp': '2018-02-03 16:04:14'},\n",
       "  'odds_matrix': []}]"
      ]
     },
     "execution_count": 97,
     "metadata": {},
     "output_type": "execute_result"
    }
   ],
   "source": [
    "games"
   ]
  },
  {
   "cell_type": "code",
   "execution_count": null,
   "metadata": {},
   "outputs": [],
   "source": [
    "\n"
   ]
  }
 ],
 "metadata": {
  "kernelspec": {
   "display_name": "Python 2",
   "language": "python",
   "name": "python2"
  },
  "language_info": {
   "codemirror_mode": {
    "name": "ipython",
    "version": 2
   },
   "file_extension": ".py",
   "mimetype": "text/x-python",
   "name": "python",
   "nbconvert_exporter": "python",
   "pygments_lexer": "ipython2",
   "version": "2.7.14"
  }
 },
 "nbformat": 4,
 "nbformat_minor": 2
}
