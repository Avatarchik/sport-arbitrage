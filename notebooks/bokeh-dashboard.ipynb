{
 "cells": [
  {
   "cell_type": "code",
   "execution_count": 2,
   "metadata": {
    "collapsed": true
   },
   "outputs": [],
   "source": [
    "### imports\n",
    "import sys\n",
    "sys.path.append('..')\n",
    "\n",
    "import joblib\n",
    "import pandas as pd\n",
    "from src.dashboardScraper import DashboardScraper\n",
    "from src.arbitrageOptimizer import ArbitrageOptimizer"
   ]
  },
  {
   "cell_type": "code",
   "execution_count": 3,
   "metadata": {
    "collapsed": true
   },
   "outputs": [],
   "source": [
    "### load sample data\n",
    "optimizer = ArbitrageOptimizer()\n",
    "games = joblib.load('../data/sample.dat')"
   ]
  },
  {
   "cell_type": "code",
   "execution_count": 4,
   "metadata": {
    "collapsed": true
   },
   "outputs": [],
   "source": [
    "### show table of avaiable games\n",
    "from bokeh.io import show, output_file\n",
    "from bokeh.layouts import widgetbox, column\n",
    "from bokeh.models import ColumnDataSource\n",
    "from bokeh.models.widgets import DataTable, Panel, TableColumn, Tabs, TextEditor"
   ]
  },
  {
   "cell_type": "code",
   "execution_count": 21,
   "metadata": {
    "collapsed": true
   },
   "outputs": [],
   "source": [
    "### create table of the current opportunities\n",
    "def get_data_table_from_games(games):\n",
    "    optimizer = ArbitrageOptimizer()\n",
    "    data_match = []\n",
    "    data_league = []\n",
    "    data_result_to_bet = []\n",
    "    data_date = []\n",
    "    data_time_to_match = []\n",
    "    data_best_bookie = []\n",
    "    data_best_odds = []\n",
    "    data_mean_median = []\n",
    "    data_ratio = []\n",
    "\n",
    "    for game in games:\n",
    "        data_match.append(game['game']['match_title'])\n",
    "        data_league.append(game['game']['league'])\n",
    "        data_result_to_bet.append(game['game']['result_to_bet'])\n",
    "        data_date.append(game['game']['date'])\n",
    "        data_time_to_match.append(game['game']['time_to_match'])\n",
    "        data_best_bookie.append(game['game']['best_bookie'])\n",
    "        data_best_odds.append(game['game']['best_odds'])\n",
    "        data_mean_median.append(str(game['game']['mean']) + \"/\" + str(game['game']['mean']))\n",
    "        optimizer.load_game(game)\n",
    "        data_ratio.append(round(100*optimizer.get_optimal_ratio(),1))\n",
    "    \n",
    "    data = dict(\n",
    "        match = data_match, \n",
    "        league = data_league, \n",
    "        result_to_bet = data_result_to_bet,\n",
    "        date = data_date,\n",
    "        time_to_match = data_time_to_match,\n",
    "        best_bookie = data_best_bookie,\n",
    "        best_odds = data_best_odds,\n",
    "        mean_median = data_mean_median,\n",
    "        ratio = data_ratio,\n",
    "    )\n",
    "    \n",
    "    source = ColumnDataSource(data)\n",
    "    \n",
    "    columns = [\n",
    "        TableColumn(field=\"match\", title=\"Mitch Title\"),\n",
    "        TableColumn(field=\"league\", title=\"League\"),\n",
    "        TableColumn(field=\"result_to_bet\", title=\"Result to Bet\"),\n",
    "        TableColumn(field=\"date\", title=\"Date\"),\n",
    "        TableColumn(field=\"time_to_match\", title=\"Time to Match\"),\n",
    "        TableColumn(field=\"best_bookie\", title=\"Best Bookie\"),\n",
    "        TableColumn(field=\"best_odds\", title=\"Best Odds\"),\n",
    "        TableColumn(field=\"mean_median\", title=\"Mean/Median\"),\n",
    "        TableColumn(field=\"ratio\", title=\"Ratio to Bet (%)\"),\n",
    "    ]\n",
    "    \n",
    "    data_table = DataTable(source=source, columns=columns, width=1400, height=1000, sizing_mode='stretch_both')\n",
    "    return data_table\n",
    "\n",
    "data_table = get_data_table_from_games(games)\n",
    "show(widgetbox(data_table))"
   ]
  },
  {
   "cell_type": "code",
   "execution_count": 54,
   "metadata": {
    "collapsed": true
   },
   "outputs": [],
   "source": [
    "### create DataTable for arbitrage opportunity\n",
    "def get_arbitrage_table(game):\n",
    "    optimizer = ArbitrageOptimizer()\n",
    "    optimizer.load_game(game)\n",
    "    arbitrage_opportunity = optimizer.get_arbitrage_opportunity()\n",
    "    \n",
    "    if arbitrage_opportunity['arbitrage'] != 'yes':\n",
    "        return None\n",
    "    else:\n",
    "        column_1 = [\n",
    "            arbitrage_opportunity['bet']['1']['bookie'],\n",
    "            arbitrage_opportunity['bet']['1']['odds'],\n",
    "            str(round(100*arbitrage_opportunity['bet']['1']['bet_size'],1)),\n",
    "        ]\n",
    "        column_X = [\n",
    "            arbitrage_opportunity['bet']['X']['bookie'],\n",
    "            arbitrage_opportunity['bet']['X']['odds'],\n",
    "            str(round(100*arbitrage_opportunity['bet']['X']['bet_size'],1)),\n",
    "        ]\n",
    "        column_2 = [\n",
    "            arbitrage_opportunity['bet']['2']['bookie'],\n",
    "            arbitrage_opportunity['bet']['2']['odds'],\n",
    "            str(round(100*arbitrage_opportunity['bet']['2']['bet_size'],1)),\n",
    "        ]\n",
    "\n",
    "        data = dict(column_1 = column_1, column_X = column_X, column_2 = column_2,)\n",
    "        source = ColumnDataSource(data)\n",
    "\n",
    "        columns = [\n",
    "            TableColumn(field=\"column_1\", title=\"1\"),\n",
    "            TableColumn(field=\"column_X\", title=\"X\"),\n",
    "            TableColumn(field=\"column_2\", title=\"2\"),\n",
    "        ]\n",
    "\n",
    "        data_table = DataTable(source=source, columns=columns, width=500, height=200, selectable=True)\n",
    "        return data_table, arbitrage_opportunity['profit']"
   ]
  },
  {
   "cell_type": "code",
   "execution_count": 55,
   "metadata": {},
   "outputs": [],
   "source": [
    "from bokeh.layouts import row\n",
    "from bokeh.models.widgets import TextInput\n",
    "### create separate tabs for the arbitrage opportunities\n",
    "arbitrage_tables = []\n",
    "for game in games: \n",
    "    output = get_arbitrage_table(game)\n",
    "    if output is not None:\n",
    "        arbitrage_tables.append(output)\n",
    "# sort tables in descending order of the profit\n",
    "arbitrage_tables.sort(key=lambda x : x[1], reverse=True)\n",
    "\n",
    "# create a separate tab for each arbitrage table\n",
    "tabs = []\n",
    "for arbitrage_table in arbitrage_tables:\n",
    "    profit = str(round(100*arbitrage_table[1],1))\n",
    "    tabs.append(Panel(child=arbitrage_table[0], title=\"Profit : {}\".format(profit)))\n",
    "    \n",
    "arbitrage_tabs = Tabs(tabs=tabs)\n",
    "\n",
    "show(column(arbitrage_tabs, sizing_mode='stretch_both'))"
   ]
  },
  {
   "cell_type": "code",
   "execution_count": 51,
   "metadata": {},
   "outputs": [
    {
     "ename": "AttributeError",
     "evalue": "'str' object has no attribute 'text'",
     "traceback": [
      "\u001b[0;31m---------------------------------------------------------------------------\u001b[0m",
      "\u001b[0;31mAttributeError\u001b[0m                            Traceback (most recent call last)",
      "\u001b[0;32m<ipython-input-51-e2eef8bee4d7>\u001b[0m in \u001b[0;36m<module>\u001b[0;34m()\u001b[0m\n\u001b[1;32m     26\u001b[0m     \u001b[0mbet_2\u001b[0m\u001b[0;34m.\u001b[0m\u001b[0mvalue\u001b[0m \u001b[0;34m=\u001b[0m \u001b[0;34m\"3\"\u001b[0m\u001b[0;34m\u001b[0m\u001b[0m\n\u001b[1;32m     27\u001b[0m \u001b[0;34m\u001b[0m\u001b[0m\n\u001b[0;32m---> 28\u001b[0;31m \u001b[0mcalculate_button\u001b[0m\u001b[0;34m.\u001b[0m\u001b[0mon_click\u001b[0m\u001b[0;34m(\u001b[0m\u001b[0mcalculate_bets\u001b[0m\u001b[0;34m(\u001b[0m\u001b[0mbutton\u001b[0m\u001b[0;34m)\u001b[0m\u001b[0;34m)\u001b[0m\u001b[0;34m\u001b[0m\u001b[0m\n\u001b[0m\u001b[1;32m     29\u001b[0m \u001b[0;34m\u001b[0m\u001b[0m\n\u001b[1;32m     30\u001b[0m \u001b[0;34m\u001b[0m\u001b[0m\n",
      "\u001b[0;32m<ipython-input-51-e2eef8bee4d7>\u001b[0m in \u001b[0;36mcalculate_bets\u001b[0;34m(button)\u001b[0m\n\u001b[1;32m     22\u001b[0m \u001b[0;34m\u001b[0m\u001b[0m\n\u001b[1;32m     23\u001b[0m \u001b[0;32mdef\u001b[0m \u001b[0mcalculate_bets\u001b[0m\u001b[0;34m(\u001b[0m\u001b[0mbutton\u001b[0m\u001b[0;34m)\u001b[0m\u001b[0;34m:\u001b[0m\u001b[0;34m\u001b[0m\u001b[0m\n\u001b[0;32m---> 24\u001b[0;31m     \u001b[0mbet_1\u001b[0m\u001b[0;34m.\u001b[0m\u001b[0mvalue\u001b[0m\u001b[0;34m.\u001b[0m\u001b[0mtext\u001b[0m \u001b[0;34m=\u001b[0m \u001b[0;34m\"1\"\u001b[0m\u001b[0;34m\u001b[0m\u001b[0m\n\u001b[0m\u001b[1;32m     25\u001b[0m     \u001b[0mbet_X\u001b[0m\u001b[0;34m.\u001b[0m\u001b[0mvalue\u001b[0m \u001b[0;34m=\u001b[0m \u001b[0;34m\"2\"\u001b[0m\u001b[0;34m\u001b[0m\u001b[0m\n\u001b[1;32m     26\u001b[0m     \u001b[0mbet_2\u001b[0m\u001b[0;34m.\u001b[0m\u001b[0mvalue\u001b[0m \u001b[0;34m=\u001b[0m \u001b[0;34m\"3\"\u001b[0m\u001b[0;34m\u001b[0m\u001b[0m\n",
      "\u001b[0;31mAttributeError\u001b[0m: 'str' object has no attribute 'text'"
     ],
     "output_type": "error"
    }
   ],
   "source": [
    "### define layout for optimal bet sizing\n",
    "from bokeh.models.widgets import TextInput, Button\n",
    "from bokeh.layouts import row, column, gridplot\n",
    "\n",
    "upper_bound_1 = TextInput(title=\"Upper bound 1\", width=300)\n",
    "upper_bound_X = TextInput(title=\"Upper bound X\", width=300)\n",
    "upper_bound_2 = TextInput(title=\"Upper bound 2\", width=300)\n",
    "\n",
    "odds_1 = TextInput(title=\"Odds 1\", width=300)\n",
    "odds_X = TextInput(title=\"Odds X\", width=300)\n",
    "odds_2 = TextInput(title=\"Odds 2\", width=300)\n",
    "\n",
    "lower_bound_1 = TextInput(title=\"Lower bound 1\", width=300)\n",
    "lower_bound_X = TextInput(title=\"Lower bound X\", width=300)\n",
    "lower_bound_2 = TextInput(title=\"Lower bound 2\", width=300)\n",
    "\n",
    "bet_1 = TextInput(title=\"Bet on 1\", width=300)\n",
    "bet_X = TextInput(title=\"Bet on X\", width=300)\n",
    "bet_2 = TextInput(title=\"Bet on 2\", width=300)\n",
    "\n",
    "calculate_button = Button(label=\"Calculate\", width=900)\n",
    "\n",
    "def calculate_bets(button):\n",
    "    bet_1.value.text = \"1\"\n",
    "    bet_X.value = \"2\"\n",
    "    bet_2.value = \"3\"\n",
    "    \n",
    "calculate_button.on_click(calculate_bets(button))\n",
    "\n",
    "\n",
    "grid = column(\n",
    "    row(upper_bound_1, upper_bound_X, upper_bound_2),\n",
    "    row(odds_1, odds_X, odds_2),\n",
    "    row(lower_bound_1, lower_bound_X, lower_bound_2),\n",
    "    row(calculate_button),\n",
    "    row(bet_1, bet_X, bet_2)\n",
    ")\n",
    "\n",
    "\n",
    "show(grid)"
   ]
  },
  {
   "cell_type": "code",
   "execution_count": null,
   "metadata": {
    "collapsed": true
   },
   "outputs": [],
   "source": []
  }
 ],
 "metadata": {
  "kernelspec": {
   "display_name": "Python 2",
   "language": "python",
   "name": "python2"
  },
  "language_info": {
   "codemirror_mode": {
    "name": "ipython",
    "version": 2
   },
   "file_extension": ".py",
   "mimetype": "text/x-python",
   "name": "python",
   "nbconvert_exporter": "python",
   "pygments_lexer": "ipython2",
   "version": "2.7.14"
  }
 },
 "nbformat": 4,
 "nbformat_minor": 2
}
