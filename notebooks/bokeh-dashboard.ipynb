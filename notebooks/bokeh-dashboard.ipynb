{
 "cells": [
  {
   "cell_type": "code",
   "execution_count": 1,
   "metadata": {
    "collapsed": true
   },
   "outputs": [],
   "source": [
    "### imports\n",
    "import sys\n",
    "sys.path.append('..')\n",
    "\n",
    "import joblib\n",
    "import pandas as pd\n",
    "from src.dashboardScraper import DashboardScraper\n",
    "from src.arbitrageOptimizer import ArbitrageOptimizer"
   ]
  },
  {
   "cell_type": "code",
   "execution_count": 2,
   "metadata": {
    "collapsed": true
   },
   "outputs": [],
   "source": [
    "### load sample data\n",
    "optimizer = ArbitrageOptimizer()\n",
    "games = joblib.load('../data/sample.dat')"
   ]
  },
  {
   "cell_type": "code",
   "execution_count": 19,
   "metadata": {
    "collapsed": true
   },
   "outputs": [],
   "source": [
    "### show table of avaiable games\n",
    "from bokeh.io import show, output_file\n",
    "from bokeh.layouts import widgetbox\n",
    "from bokeh.models import ColumnDataSource\n",
    "from bokeh.models.widgets import DataTable, Panel, TableColumn, Tabs"
   ]
  },
  {
   "cell_type": "code",
   "execution_count": 36,
   "metadata": {},
   "outputs": [],
   "source": [
    "### create table of the current opportunities\n",
    "def get_data_table_from_games(games):\n",
    "    optimizer = ArbitrageOptimizer()\n",
    "    data_match = []\n",
    "    data_league = []\n",
    "    data_result_to_bet = []\n",
    "    data_date = []\n",
    "    data_time_to_match = []\n",
    "    data_best_bookie = []\n",
    "    data_best_odds = []\n",
    "    data_mean_median = []\n",
    "    data_ratio = []\n",
    "\n",
    "    for game in games:\n",
    "        data_match.append(game['game']['match_title'])\n",
    "        data_league.append(game['game']['league'])\n",
    "        data_result_to_bet.append(game['game']['result_to_bet'])\n",
    "        data_date.append(game['game']['date'])\n",
    "        data_time_to_match.append(game['game']['time_to_match'])\n",
    "        data_best_bookie.append(game['game']['best_bookie'])\n",
    "        data_best_odds.append(game['game']['best_odds'])\n",
    "        data_mean_median.append(str(game['game']['mean']) + \"/\" + str(game['game']['mean']))\n",
    "        optimizer.load_game(game)\n",
    "        data_ratio.append(round(100*optimizer.get_optimal_ratio(),1))\n",
    "    \n",
    "    data = dict(\n",
    "        match = data_match, \n",
    "        league = data_league, \n",
    "        result_to_bet = data_result_to_bet,\n",
    "        date = data_date,\n",
    "        time_to_match = data_time_to_match,\n",
    "        best_bookie = data_best_bookie,\n",
    "        best_odds = data_best_odds,\n",
    "        mean_median = data_mean_median,\n",
    "        ratio = data_ratio,\n",
    "    )\n",
    "    \n",
    "    source = ColumnDataSource(data)\n",
    "    \n",
    "    columns = [\n",
    "        TableColumn(field=\"match\", title=\"Mitch Title\"),\n",
    "        TableColumn(field=\"league\", title=\"League\"),\n",
    "        TableColumn(field=\"result_to_bet\", title=\"Result to Bet\"),\n",
    "        TableColumn(field=\"date\", title=\"Date\"),\n",
    "        TableColumn(field=\"time_to_match\", title=\"Time to Match\"),\n",
    "        TableColumn(field=\"best_bookie\", title=\"Best Bookie\"),\n",
    "        TableColumn(field=\"best_odds\", title=\"Best Odds\"),\n",
    "        TableColumn(field=\"mean_median\", title=\"Mean/Median\"),\n",
    "        TableColumn(field=\"ratio\", title=\"Ratio to Bet (%)\"),\n",
    "    ]\n",
    "    \n",
    "    data_table = DataTable(source=source, columns=columns, width=1400, height=1000, sizing_mode='stretch_both')\n",
    "    return data_table\n",
    "\n",
    "data_table = get_data_table_from_games(games)\n",
    "show(widgetbox(data_table))"
   ]
  },
  {
   "cell_type": "code",
   "execution_count": 7,
   "metadata": {},
   "outputs": [],
   "source": [
    "### create DataTable for arbitrage opportunity\n",
    "def get_arbitrage_table(game):\n",
    "    optimizer = ArbitrageOptimizer()\n",
    "    optimizer.load_game(game)\n",
    "    arbitrage_opportunity = optimizer.get_arbitrage_opportunity()\n",
    "    \n",
    "    if arbitrage_opportunity['arbitrage'] != 'yes':\n",
    "        return None\n",
    "    else:\n",
    "        column_1 = [\n",
    "            arbitrage_opportunity['bet']['1']['bookie'],\n",
    "            arbitrage_opportunity['bet']['1']['odds'],\n",
    "            str(round(100*arbitrage_opportunity['bet']['1']['bet_size'],1)),\n",
    "        ]\n",
    "        column_X = [\n",
    "            arbitrage_opportunity['bet']['X']['bookie'],\n",
    "            arbitrage_opportunity['bet']['X']['odds'],\n",
    "            str(round(100*arbitrage_opportunity['bet']['X']['bet_size'],1)),\n",
    "        ]\n",
    "        column_2 = [\n",
    "            arbitrage_opportunity['bet']['2']['bookie'],\n",
    "            arbitrage_opportunity['bet']['2']['odds'],\n",
    "            str(round(100*arbitrage_opportunity['bet']['2']['bet_size'],1)),\n",
    "        ]\n",
    "\n",
    "        data = dict(column_1 = column_1, column_X = column_X, column_2 = column_2,)\n",
    "        source = ColumnDataSource(data)\n",
    "\n",
    "        columns = [\n",
    "            TableColumn(field=\"column_1\", title=\"1\"),\n",
    "            TableColumn(field=\"column_X\", title=\"X\"),\n",
    "            TableColumn(field=\"column_2\", title=\"2\"),\n",
    "        ]\n",
    "\n",
    "        data_table = DataTable(source=source, columns=columns, width=500, height=200)\n",
    "        return data_table, arbitrage_opportunity['profit']"
   ]
  },
  {
   "cell_type": "code",
   "execution_count": 31,
   "metadata": {},
   "outputs": [],
   "source": [
    "### create separate tabs for the arbitrage opportunities\n",
    "arbitrage_tables = []\n",
    "for game in games:\n",
    "    output = get_arbitrage_table(game)\n",
    "    if output is not None:\n",
    "        arbitrage_tables.append(output)\n",
    "# sort tables in descending order of the profit\n",
    "arbitrage_tables.sort(key=lambda x : x[1], reverse=True)\n",
    "\n",
    "# create a separate tab for each arbitrage table\n",
    "tabs = []\n",
    "for arbitrage_table in arbitrage_tables:\n",
    "    profit = str(round(100*arbitrage_table[1],1))\n",
    "    tabs.append(Panel(child=arbitrage_table[0], title=\"Profit : {}\".format(profit)))\n",
    "\n",
    "show(Tabs(tabs=tabs))"
   ]
  }
 ],
 "metadata": {
  "kernelspec": {
   "display_name": "Python 2",
   "language": "python",
   "name": "python2"
  },
  "language_info": {
   "codemirror_mode": {
    "name": "ipython",
    "version": 2
   },
   "file_extension": ".py",
   "mimetype": "text/x-python",
   "name": "python",
   "nbconvert_exporter": "python",
   "pygments_lexer": "ipython2",
   "version": "2.7.14"
  }
 },
 "nbformat": 4,
 "nbformat_minor": 2
}
